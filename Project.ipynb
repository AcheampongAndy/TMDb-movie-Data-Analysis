{
 "cells": [
  {
   "cell_type": "markdown",
   "id": "2ceab224",
   "metadata": {},
   "source": [
    "# Project: TMDb movie Data Analysis\n",
    "\n",
    "## Table of Contents\n",
    "<ul>\n",
    "<li><a href=\"#intro\">Introduction</a></li>\n",
    "<li><a href=\"#wrangling\">Data Wrangling</a></li>\n",
    "<li><a href=\"#eda\">Exploratory Data Analysis</a></li>\n",
    "<li><a href=\"#conclusions\">Conclusions</a></li>\n",
    "</ul>"
   ]
  },
  {
   "cell_type": "markdown",
   "id": "bdf8df57",
   "metadata": {},
   "source": [
    "<a id='intro'></a>\n",
    "## Introduction\n",
    "> In this project I will be analysing data set that contains information about 10,000 movies, collected from The Movie Database(TMDb). And in particular I will be interested in finding which genre had a highest vote count, most popularity and the greatest revenue. \n"
   ]
  },
  {
   "cell_type": "code",
   "execution_count": 1,
   "id": "d76754eb",
   "metadata": {},
   "outputs": [
    {
     "name": "stderr",
     "output_type": "stream",
     "text": [
      "UsageError: Line magic function `%` not found.\n"
     ]
    }
   ],
   "source": [
    "import numpy as np\n",
    "import pandas as pd\n",
    "import matplotlib.pyplot as plt\n",
    "% matplotlib inline\n",
    "plt.style.use('fivethirtyeight')"
   ]
  },
  {
   "cell_type": "markdown",
   "id": "f7ccd2e5",
   "metadata": {},
   "source": [
    "<a id='wrangling'></a>\n",
    "## Data Wrangling\n"
   ]
  },
  {
   "cell_type": "code",
   "execution_count": 2,
   "id": "4725dd1e",
   "metadata": {},
   "outputs": [],
   "source": [
    "#load dataset\n",
    "mov = pd.read_csv('tmdb-movies.csv')"
   ]
  },
  {
   "cell_type": "code",
   "execution_count": 3,
   "id": "5b03fc80",
   "metadata": {},
   "outputs": [
    {
     "data": {
      "text/plain": [
       "(10866, 21)"
      ]
     },
     "execution_count": 3,
     "metadata": {},
     "output_type": "execute_result"
    }
   ],
   "source": [
    "# the shape of the nics data\n",
    "mov.shape"
   ]
  },
  {
   "cell_type": "code",
   "execution_count": 4,
   "id": "72ec2ef4",
   "metadata": {},
   "outputs": [
    {
     "data": {
      "text/plain": [
       "id                        int64\n",
       "imdb_id                  object\n",
       "popularity              float64\n",
       "budget                    int64\n",
       "revenue                   int64\n",
       "original_title           object\n",
       "cast                     object\n",
       "homepage                 object\n",
       "director                 object\n",
       "tagline                  object\n",
       "keywords                 object\n",
       "overview                 object\n",
       "runtime                   int64\n",
       "genres                   object\n",
       "production_companies     object\n",
       "release_date             object\n",
       "vote_count                int64\n",
       "vote_average            float64\n",
       "release_year              int64\n",
       "budget_adj              float64\n",
       "revenue_adj             float64\n",
       "dtype: object"
      ]
     },
     "execution_count": 4,
     "metadata": {},
     "output_type": "execute_result"
    }
   ],
   "source": [
    "mov.dtypes"
   ]
  },
  {
   "cell_type": "code",
   "execution_count": 5,
   "id": "24bb3d8b",
   "metadata": {},
   "outputs": [
    {
     "name": "stdout",
     "output_type": "stream",
     "text": [
      "<class 'pandas.core.frame.DataFrame'>\n",
      "RangeIndex: 10866 entries, 0 to 10865\n",
      "Data columns (total 21 columns):\n",
      " #   Column                Non-Null Count  Dtype  \n",
      "---  ------                --------------  -----  \n",
      " 0   id                    10866 non-null  int64  \n",
      " 1   imdb_id               10856 non-null  object \n",
      " 2   popularity            10866 non-null  float64\n",
      " 3   budget                10866 non-null  int64  \n",
      " 4   revenue               10866 non-null  int64  \n",
      " 5   original_title        10866 non-null  object \n",
      " 6   cast                  10790 non-null  object \n",
      " 7   homepage              2936 non-null   object \n",
      " 8   director              10822 non-null  object \n",
      " 9   tagline               8042 non-null   object \n",
      " 10  keywords              9373 non-null   object \n",
      " 11  overview              10862 non-null  object \n",
      " 12  runtime               10866 non-null  int64  \n",
      " 13  genres                10843 non-null  object \n",
      " 14  production_companies  9836 non-null   object \n",
      " 15  release_date          10866 non-null  object \n",
      " 16  vote_count            10866 non-null  int64  \n",
      " 17  vote_average          10866 non-null  float64\n",
      " 18  release_year          10866 non-null  int64  \n",
      " 19  budget_adj            10866 non-null  float64\n",
      " 20  revenue_adj           10866 non-null  float64\n",
      "dtypes: float64(4), int64(6), object(11)\n",
      "memory usage: 1.7+ MB\n"
     ]
    }
   ],
   "source": [
    "mov.info()"
   ]
  },
  {
   "cell_type": "markdown",
   "id": "f843b44c",
   "metadata": {},
   "source": [
    "Dropping columns that i wont use in my analysis"
   ]
  },
  {
   "cell_type": "code",
   "execution_count": 6,
   "id": "c4264984",
   "metadata": {},
   "outputs": [],
   "source": [
    "mov.drop(['homepage','tagline','keywords'], axis =1, inplace = True)"
   ]
  },
  {
   "cell_type": "code",
   "execution_count": 7,
   "id": "9d631ca0",
   "metadata": {},
   "outputs": [
    {
     "name": "stdout",
     "output_type": "stream",
     "text": [
      "<class 'pandas.core.frame.DataFrame'>\n",
      "RangeIndex: 10866 entries, 0 to 10865\n",
      "Data columns (total 18 columns):\n",
      " #   Column                Non-Null Count  Dtype  \n",
      "---  ------                --------------  -----  \n",
      " 0   id                    10866 non-null  int64  \n",
      " 1   imdb_id               10856 non-null  object \n",
      " 2   popularity            10866 non-null  float64\n",
      " 3   budget                10866 non-null  int64  \n",
      " 4   revenue               10866 non-null  int64  \n",
      " 5   original_title        10866 non-null  object \n",
      " 6   cast                  10790 non-null  object \n",
      " 7   director              10822 non-null  object \n",
      " 8   overview              10862 non-null  object \n",
      " 9   runtime               10866 non-null  int64  \n",
      " 10  genres                10843 non-null  object \n",
      " 11  production_companies  9836 non-null   object \n",
      " 12  release_date          10866 non-null  object \n",
      " 13  vote_count            10866 non-null  int64  \n",
      " 14  vote_average          10866 non-null  float64\n",
      " 15  release_year          10866 non-null  int64  \n",
      " 16  budget_adj            10866 non-null  float64\n",
      " 17  revenue_adj           10866 non-null  float64\n",
      "dtypes: float64(4), int64(6), object(8)\n",
      "memory usage: 1.5+ MB\n"
     ]
    }
   ],
   "source": [
    "mov.info()"
   ]
  },
  {
   "cell_type": "code",
   "execution_count": 8,
   "id": "d2785d4b",
   "metadata": {},
   "outputs": [
    {
     "data": {
      "text/plain": [
       "1"
      ]
     },
     "execution_count": 8,
     "metadata": {},
     "output_type": "execute_result"
    }
   ],
   "source": [
    "mov.duplicated().sum()"
   ]
  },
  {
   "cell_type": "markdown",
   "id": "de220acb",
   "metadata": {},
   "source": [
    "Dropping a duplicate row"
   ]
  },
  {
   "cell_type": "code",
   "execution_count": 9,
   "id": "0b5011cd",
   "metadata": {},
   "outputs": [],
   "source": [
    "mov.drop_duplicates(inplace= True)"
   ]
  },
  {
   "cell_type": "code",
   "execution_count": 10,
   "id": "5ea44c3e",
   "metadata": {},
   "outputs": [
    {
     "data": {
      "text/plain": [
       "0"
      ]
     },
     "execution_count": 10,
     "metadata": {},
     "output_type": "execute_result"
    }
   ],
   "source": [
    "mov.duplicated().sum()"
   ]
  },
  {
   "cell_type": "markdown",
   "id": "43ad8860",
   "metadata": {},
   "source": [
    "<a id='eda'></a>\n",
    "## Exploratory Data Analysis\n",
    "\n",
    "###  Question 1  Which genre had a highest vote count, from 2013 to 2015? \n",
    "First checking for movies released in 2015."
   ]
  },
  {
   "cell_type": "code",
   "execution_count": 11,
   "id": "cdbe730f",
   "metadata": {},
   "outputs": [
    {
     "data": {
      "text/html": [
       "<div>\n",
       "<style scoped>\n",
       "    .dataframe tbody tr th:only-of-type {\n",
       "        vertical-align: middle;\n",
       "    }\n",
       "\n",
       "    .dataframe tbody tr th {\n",
       "        vertical-align: top;\n",
       "    }\n",
       "\n",
       "    .dataframe thead th {\n",
       "        text-align: right;\n",
       "    }\n",
       "</style>\n",
       "<table border=\"1\" class=\"dataframe\">\n",
       "  <thead>\n",
       "    <tr style=\"text-align: right;\">\n",
       "      <th></th>\n",
       "      <th>id</th>\n",
       "      <th>imdb_id</th>\n",
       "      <th>popularity</th>\n",
       "      <th>budget</th>\n",
       "      <th>revenue</th>\n",
       "      <th>original_title</th>\n",
       "      <th>cast</th>\n",
       "      <th>director</th>\n",
       "      <th>overview</th>\n",
       "      <th>runtime</th>\n",
       "      <th>genres</th>\n",
       "      <th>production_companies</th>\n",
       "      <th>release_date</th>\n",
       "      <th>vote_count</th>\n",
       "      <th>vote_average</th>\n",
       "      <th>release_year</th>\n",
       "      <th>budget_adj</th>\n",
       "      <th>revenue_adj</th>\n",
       "    </tr>\n",
       "  </thead>\n",
       "  <tbody>\n",
       "    <tr>\n",
       "      <th>0</th>\n",
       "      <td>135397</td>\n",
       "      <td>tt0369610</td>\n",
       "      <td>32.985763</td>\n",
       "      <td>150000000</td>\n",
       "      <td>1513528810</td>\n",
       "      <td>Jurassic World</td>\n",
       "      <td>Chris Pratt|Bryce Dallas Howard|Irrfan Khan|Vi...</td>\n",
       "      <td>Colin Trevorrow</td>\n",
       "      <td>Twenty-two years after the events of Jurassic ...</td>\n",
       "      <td>124</td>\n",
       "      <td>Action|Adventure|Science Fiction|Thriller</td>\n",
       "      <td>Universal Studios|Amblin Entertainment|Legenda...</td>\n",
       "      <td>6/9/15</td>\n",
       "      <td>5562</td>\n",
       "      <td>6.5</td>\n",
       "      <td>2015</td>\n",
       "      <td>1.379999e+08</td>\n",
       "      <td>1.392446e+09</td>\n",
       "    </tr>\n",
       "    <tr>\n",
       "      <th>1</th>\n",
       "      <td>76341</td>\n",
       "      <td>tt1392190</td>\n",
       "      <td>28.419936</td>\n",
       "      <td>150000000</td>\n",
       "      <td>378436354</td>\n",
       "      <td>Mad Max: Fury Road</td>\n",
       "      <td>Tom Hardy|Charlize Theron|Hugh Keays-Byrne|Nic...</td>\n",
       "      <td>George Miller</td>\n",
       "      <td>An apocalyptic story set in the furthest reach...</td>\n",
       "      <td>120</td>\n",
       "      <td>Action|Adventure|Science Fiction|Thriller</td>\n",
       "      <td>Village Roadshow Pictures|Kennedy Miller Produ...</td>\n",
       "      <td>5/13/15</td>\n",
       "      <td>6185</td>\n",
       "      <td>7.1</td>\n",
       "      <td>2015</td>\n",
       "      <td>1.379999e+08</td>\n",
       "      <td>3.481613e+08</td>\n",
       "    </tr>\n",
       "    <tr>\n",
       "      <th>2</th>\n",
       "      <td>262500</td>\n",
       "      <td>tt2908446</td>\n",
       "      <td>13.112507</td>\n",
       "      <td>110000000</td>\n",
       "      <td>295238201</td>\n",
       "      <td>Insurgent</td>\n",
       "      <td>Shailene Woodley|Theo James|Kate Winslet|Ansel...</td>\n",
       "      <td>Robert Schwentke</td>\n",
       "      <td>Beatrice Prior must confront her inner demons ...</td>\n",
       "      <td>119</td>\n",
       "      <td>Adventure|Science Fiction|Thriller</td>\n",
       "      <td>Summit Entertainment|Mandeville Films|Red Wago...</td>\n",
       "      <td>3/18/15</td>\n",
       "      <td>2480</td>\n",
       "      <td>6.3</td>\n",
       "      <td>2015</td>\n",
       "      <td>1.012000e+08</td>\n",
       "      <td>2.716190e+08</td>\n",
       "    </tr>\n",
       "  </tbody>\n",
       "</table>\n",
       "</div>"
      ],
      "text/plain": [
       "       id    imdb_id  popularity     budget     revenue      original_title  \\\n",
       "0  135397  tt0369610   32.985763  150000000  1513528810      Jurassic World   \n",
       "1   76341  tt1392190   28.419936  150000000   378436354  Mad Max: Fury Road   \n",
       "2  262500  tt2908446   13.112507  110000000   295238201           Insurgent   \n",
       "\n",
       "                                                cast          director  \\\n",
       "0  Chris Pratt|Bryce Dallas Howard|Irrfan Khan|Vi...   Colin Trevorrow   \n",
       "1  Tom Hardy|Charlize Theron|Hugh Keays-Byrne|Nic...     George Miller   \n",
       "2  Shailene Woodley|Theo James|Kate Winslet|Ansel...  Robert Schwentke   \n",
       "\n",
       "                                            overview  runtime  \\\n",
       "0  Twenty-two years after the events of Jurassic ...      124   \n",
       "1  An apocalyptic story set in the furthest reach...      120   \n",
       "2  Beatrice Prior must confront her inner demons ...      119   \n",
       "\n",
       "                                      genres  \\\n",
       "0  Action|Adventure|Science Fiction|Thriller   \n",
       "1  Action|Adventure|Science Fiction|Thriller   \n",
       "2         Adventure|Science Fiction|Thriller   \n",
       "\n",
       "                                production_companies release_date  vote_count  \\\n",
       "0  Universal Studios|Amblin Entertainment|Legenda...       6/9/15        5562   \n",
       "1  Village Roadshow Pictures|Kennedy Miller Produ...      5/13/15        6185   \n",
       "2  Summit Entertainment|Mandeville Films|Red Wago...      3/18/15        2480   \n",
       "\n",
       "   vote_average  release_year    budget_adj   revenue_adj  \n",
       "0           6.5          2015  1.379999e+08  1.392446e+09  \n",
       "1           7.1          2015  1.379999e+08  3.481613e+08  \n",
       "2           6.3          2015  1.012000e+08  2.716190e+08  "
      ]
     },
     "execution_count": 11,
     "metadata": {},
     "output_type": "execute_result"
    }
   ],
   "source": [
    "mov.head(3)"
   ]
  },
  {
   "cell_type": "code",
   "execution_count": 12,
   "id": "277c08b8",
   "metadata": {
    "scrolled": true
   },
   "outputs": [
    {
     "data": {
      "text/html": [
       "<div>\n",
       "<style scoped>\n",
       "    .dataframe tbody tr th:only-of-type {\n",
       "        vertical-align: middle;\n",
       "    }\n",
       "\n",
       "    .dataframe tbody tr th {\n",
       "        vertical-align: top;\n",
       "    }\n",
       "\n",
       "    .dataframe thead th {\n",
       "        text-align: right;\n",
       "    }\n",
       "</style>\n",
       "<table border=\"1\" class=\"dataframe\">\n",
       "  <thead>\n",
       "    <tr style=\"text-align: right;\">\n",
       "      <th></th>\n",
       "      <th>id</th>\n",
       "      <th>imdb_id</th>\n",
       "      <th>popularity</th>\n",
       "      <th>budget</th>\n",
       "      <th>revenue</th>\n",
       "      <th>original_title</th>\n",
       "      <th>cast</th>\n",
       "      <th>director</th>\n",
       "      <th>overview</th>\n",
       "      <th>runtime</th>\n",
       "      <th>genres</th>\n",
       "      <th>production_companies</th>\n",
       "      <th>release_date</th>\n",
       "      <th>vote_count</th>\n",
       "      <th>vote_average</th>\n",
       "      <th>release_year</th>\n",
       "      <th>budget_adj</th>\n",
       "      <th>revenue_adj</th>\n",
       "    </tr>\n",
       "  </thead>\n",
       "  <tbody>\n",
       "    <tr>\n",
       "      <th>10863</th>\n",
       "      <td>39768</td>\n",
       "      <td>tt0060161</td>\n",
       "      <td>0.065141</td>\n",
       "      <td>0</td>\n",
       "      <td>0</td>\n",
       "      <td>Beregis Avtomobilya</td>\n",
       "      <td>Innokentiy Smoktunovskiy|Oleg Efremov|Georgi Z...</td>\n",
       "      <td>Eldar Ryazanov</td>\n",
       "      <td>An insurance agent who moonlights as a carthie...</td>\n",
       "      <td>94</td>\n",
       "      <td>Mystery|Comedy</td>\n",
       "      <td>Mosfilm</td>\n",
       "      <td>1/1/66</td>\n",
       "      <td>11</td>\n",
       "      <td>6.5</td>\n",
       "      <td>1966</td>\n",
       "      <td>0.000000</td>\n",
       "      <td>0.0</td>\n",
       "    </tr>\n",
       "    <tr>\n",
       "      <th>10864</th>\n",
       "      <td>21449</td>\n",
       "      <td>tt0061177</td>\n",
       "      <td>0.064317</td>\n",
       "      <td>0</td>\n",
       "      <td>0</td>\n",
       "      <td>What's Up, Tiger Lily?</td>\n",
       "      <td>Tatsuya Mihashi|Akiko Wakabayashi|Mie Hama|Joh...</td>\n",
       "      <td>Woody Allen</td>\n",
       "      <td>In comic Woody Allen's film debut, he took the...</td>\n",
       "      <td>80</td>\n",
       "      <td>Action|Comedy</td>\n",
       "      <td>Benedict Pictures Corp.</td>\n",
       "      <td>11/2/66</td>\n",
       "      <td>22</td>\n",
       "      <td>5.4</td>\n",
       "      <td>1966</td>\n",
       "      <td>0.000000</td>\n",
       "      <td>0.0</td>\n",
       "    </tr>\n",
       "    <tr>\n",
       "      <th>10865</th>\n",
       "      <td>22293</td>\n",
       "      <td>tt0060666</td>\n",
       "      <td>0.035919</td>\n",
       "      <td>19000</td>\n",
       "      <td>0</td>\n",
       "      <td>Manos: The Hands of Fate</td>\n",
       "      <td>Harold P. Warren|Tom Neyman|John Reynolds|Dian...</td>\n",
       "      <td>Harold P. Warren</td>\n",
       "      <td>A family gets lost on the road and stumbles up...</td>\n",
       "      <td>74</td>\n",
       "      <td>Horror</td>\n",
       "      <td>Norm-Iris</td>\n",
       "      <td>11/15/66</td>\n",
       "      <td>15</td>\n",
       "      <td>1.5</td>\n",
       "      <td>1966</td>\n",
       "      <td>127642.279154</td>\n",
       "      <td>0.0</td>\n",
       "    </tr>\n",
       "  </tbody>\n",
       "</table>\n",
       "</div>"
      ],
      "text/plain": [
       "          id    imdb_id  popularity  budget  revenue  \\\n",
       "10863  39768  tt0060161    0.065141       0        0   \n",
       "10864  21449  tt0061177    0.064317       0        0   \n",
       "10865  22293  tt0060666    0.035919   19000        0   \n",
       "\n",
       "                 original_title  \\\n",
       "10863       Beregis Avtomobilya   \n",
       "10864    What's Up, Tiger Lily?   \n",
       "10865  Manos: The Hands of Fate   \n",
       "\n",
       "                                                    cast          director  \\\n",
       "10863  Innokentiy Smoktunovskiy|Oleg Efremov|Georgi Z...    Eldar Ryazanov   \n",
       "10864  Tatsuya Mihashi|Akiko Wakabayashi|Mie Hama|Joh...       Woody Allen   \n",
       "10865  Harold P. Warren|Tom Neyman|John Reynolds|Dian...  Harold P. Warren   \n",
       "\n",
       "                                                overview  runtime  \\\n",
       "10863  An insurance agent who moonlights as a carthie...       94   \n",
       "10864  In comic Woody Allen's film debut, he took the...       80   \n",
       "10865  A family gets lost on the road and stumbles up...       74   \n",
       "\n",
       "               genres     production_companies release_date  vote_count  \\\n",
       "10863  Mystery|Comedy                  Mosfilm       1/1/66          11   \n",
       "10864   Action|Comedy  Benedict Pictures Corp.      11/2/66          22   \n",
       "10865          Horror                Norm-Iris     11/15/66          15   \n",
       "\n",
       "       vote_average  release_year     budget_adj  revenue_adj  \n",
       "10863           6.5          1966       0.000000          0.0  \n",
       "10864           5.4          1966       0.000000          0.0  \n",
       "10865           1.5          1966  127642.279154          0.0  "
      ]
     },
     "execution_count": 12,
     "metadata": {},
     "output_type": "execute_result"
    }
   ],
   "source": [
    "mov.tail(3)"
   ]
  },
  {
   "cell_type": "markdown",
   "id": "765c8add",
   "metadata": {},
   "source": [
    "A function to find the maximum genre and its corresponding value based on a given independent variable"
   ]
  },
  {
   "cell_type": "code",
   "execution_count": 13,
   "id": "e4246588",
   "metadata": {},
   "outputs": [],
   "source": [
    "def genre(x,y,z):\n",
    "    mov_2015_gen = x.groupby('genres').mean()[[y]]\n",
    "    count_15 = mov_2015_gen[y].max()\n",
    "    if z == \"vote_count\":\n",
    "        gen_15 = mov_2015_gen.vote_count.idxmax()\n",
    "    elif z == \"popularity\":\n",
    "        gen_15 = mov_2015_gen.popularity.idxmax()\n",
    "    elif z == \"revenue\":\n",
    "        gen_15 = mov_2015_gen.revenue.idxmax()\n",
    "    return print('Genre: '+ gen_15, '   Value:',count_15)"
   ]
  },
  {
   "cell_type": "markdown",
   "id": "e5d68762",
   "metadata": {},
   "source": [
    "Filtering the only the movies that was release in the year 2015"
   ]
  },
  {
   "cell_type": "code",
   "execution_count": 14,
   "id": "dc9769f3",
   "metadata": {},
   "outputs": [],
   "source": [
    "#select the sample with moveis release in 2015\n",
    "mov_2015 = mov.query('release_year == 2015')"
   ]
  },
  {
   "cell_type": "markdown",
   "id": "cf02c6eb",
   "metadata": {},
   "source": [
    "The box plot below shows the overview of 2015 movies budget and revenue"
   ]
  },
  {
   "cell_type": "code",
   "execution_count": 15,
   "id": "a03404cd",
   "metadata": {
    "scrolled": true
   },
   "outputs": [
    {
     "data": {
      "image/png": "[encoded data removed]",
      "text/plain": [
       "<Figure size 432x288 with 1 Axes>"
      ]
     },
     "metadata": {
      "needs_background": "light"
     },
     "output_type": "display_data"
    }
   ],
   "source": [
    "boxplot = mov_2015.boxplot(column=['budget', 'revenue'])"
   ]
  },
  {
   "cell_type": "markdown",
   "id": "b48856de",
   "metadata": {},
   "source": [
    "The graph below shows the an overview of budget of movies release in 2015"
   ]
  },
  {
   "cell_type": "code",
   "execution_count": 16,
   "id": "0f1b3818",
   "metadata": {},
   "outputs": [
    {
     "data": {
      "image/png": "[encoded data removed]",
      "text/plain": [
       "<Figure size 640x480 with 1 Axes>"
      ]
     },
     "metadata": {},
     "output_type": "display_data"
    }
   ],
   "source": [
    "hist = mov_2015['budget'].hist(bins=3)"
   ]
  },
  {
   "cell_type": "markdown",
   "id": "4a91964a",
   "metadata": {},
   "source": [
    "Filtering the only the movies that was release in the year 2014"
   ]
  },
  {
   "cell_type": "code",
   "execution_count": 17,
   "id": "1313cab1",
   "metadata": {},
   "outputs": [],
   "source": [
    "#select the sample with moveis release in 2014\n",
    "mov_2014 = mov.query('release_year == 2014')"
   ]
  },
  {
   "cell_type": "markdown",
   "id": "5d157a00",
   "metadata": {},
   "source": [
    "The box plot below shows the overview of 2014 movies budget and revenue"
   ]
  },
  {
   "cell_type": "code",
   "execution_count": 18,
   "id": "c3e1d55a",
   "metadata": {},
   "outputs": [
    {
     "data": {
      "image/png": "[encoded data removed]",
      "text/plain": [
       "<Figure size 640x480 with 1 Axes>"
      ]
     },
     "metadata": {},
     "output_type": "display_data"
    }
   ],
   "source": [
    "boxplot = mov_2014.boxplot(column=['budget', 'revenue'])"
   ]
  },
  {
   "cell_type": "markdown",
   "id": "7e99c60b",
   "metadata": {},
   "source": [
    "The graph below shows the an overview of budget of movies release in 2014"
   ]
  },
  {
   "cell_type": "code",
   "execution_count": 19,
   "id": "d2d4a5e4",
   "metadata": {},
   "outputs": [
    {
     "data": {
      "image/png": "[encoded data removed]",
      "text/plain": [
       "<Figure size 640x480 with 1 Axes>"
      ]
     },
     "metadata": {},
     "output_type": "display_data"
    }
   ],
   "source": [
    "hist = mov_2014['budget'].hist(bins=3)"
   ]
  },
  {
   "cell_type": "markdown",
   "id": "ea9f772e",
   "metadata": {},
   "source": [
    "Filtering the only the movies that was release in the year 2013"
   ]
  },
  {
   "cell_type": "code",
   "execution_count": 20,
   "id": "f0875efe",
   "metadata": {},
   "outputs": [],
   "source": [
    "#select the sample with moveis release in 2013\n",
    "mov_2013 = mov.query('release_year == 2013')"
   ]
  },
  {
   "cell_type": "markdown",
   "id": "d48fc91a",
   "metadata": {},
   "source": [
    "The box plot below shows the overview of 2013 movies budget and revenue"
   ]
  },
  {
   "cell_type": "code",
   "execution_count": 21,
   "id": "a653352b",
   "metadata": {},
   "outputs": [
    {
     "data": {
      "image/png": "[encoded data removed]",
      "text/plain": [
       "<Figure size 640x480 with 1 Axes>"
      ]
     },
     "metadata": {},
     "output_type": "display_data"
    }
   ],
   "source": [
    "boxplot = mov_2013.boxplot(column=['budget', 'revenue'])"
   ]
  },
  {
   "cell_type": "markdown",
   "id": "c4e38d40",
   "metadata": {},
   "source": [
    "The graph below shows the an overview of budget of movies release in 2013"
   ]
  },
  {
   "cell_type": "code",
   "execution_count": 22,
   "id": "5bfbdb4e",
   "metadata": {},
   "outputs": [
    {
     "data": {
      "image/png": "[encoded data removed]",
      "text/plain": [
       "<Figure size 640x480 with 1 Axes>"
      ]
     },
     "metadata": {},
     "output_type": "display_data"
    }
   ],
   "source": [
    "boxplot = mov_2013.boxplot(column=['budget', 'revenue'])"
   ]
  },
  {
   "cell_type": "markdown",
   "id": "3c501bc8",
   "metadata": {},
   "source": [
    "Finding the Genre that had the most vote count in 2015"
   ]
  },
  {
   "cell_type": "code",
   "execution_count": 23,
   "id": "393e2ca9",
   "metadata": {},
   "outputs": [
    {
     "name": "stdout",
     "output_type": "stream",
     "text": [
      "Genre: Action|Adventure|Science Fiction|Thriller    Value: 5873.5\n"
     ]
    }
   ],
   "source": [
    "#the most vote count genre in 2015\n",
    "genre(mov_2015,'vote_count',\"vote_count\")"
   ]
  },
  {
   "cell_type": "markdown",
   "id": "36ebb92a",
   "metadata": {},
   "source": [
    "Finding the Genre that had the greatest vote count in 2014"
   ]
  },
  {
   "cell_type": "code",
   "execution_count": 24,
   "id": "d090defc",
   "metadata": {},
   "outputs": [
    {
     "name": "stdout",
     "output_type": "stream",
     "text": [
      "Genre: Adventure|Drama|Science Fiction    Value: 6498.0\n"
     ]
    }
   ],
   "source": [
    "#the most vote count genre in 2014\n",
    "genre(mov_2014,'vote_count',\"vote_count\")"
   ]
  },
  {
   "cell_type": "markdown",
   "id": "c151a615",
   "metadata": {},
   "source": [
    "Finding the Genre that had the greatest vote count 2013"
   ]
  },
  {
   "cell_type": "code",
   "execution_count": 25,
   "id": "062152cf",
   "metadata": {},
   "outputs": [
    {
     "name": "stdout",
     "output_type": "stream",
     "text": [
      "Genre: Action|Adventure|Fantasy|Science Fiction    Value: 4729.0\n"
     ]
    }
   ],
   "source": [
    "#the most vote count genre in 2013\n",
    "genre(mov_2013,'vote_count',\"vote_count\")"
   ]
  },
  {
   "cell_type": "markdown",
   "id": "c38ed2fa",
   "metadata": {},
   "source": [
    "Creating variables for the Graph below"
   ]
  },
  {
   "cell_type": "code",
   "execution_count": 26,
   "id": "5b367e71",
   "metadata": {},
   "outputs": [],
   "source": [
    "mov_2015_gen = mov_2015.groupby('genres').mean()[['vote_count']]\n",
    "count_15 = mov_2015_gen['vote_count'].max()\n",
    "\n",
    "mov_2014_gen = mov_2014.groupby('genres').mean()[['vote_count']]\n",
    "count_14 = mov_2014_gen['vote_count'].max()\n",
    "\n",
    "mov_2013_gen = mov_2013.groupby('genres').mean()[['vote_count']]\n",
    "count_13 = mov_2013_gen['vote_count'].max()"
   ]
  },
  {
   "cell_type": "markdown",
   "id": "3ee6c91f",
   "metadata": {},
   "source": [
    "A graph displaying the Highest vote Count Genre from 2013 to 2015"
   ]
  },
  {
   "cell_type": "code",
   "execution_count": 27,
   "id": "b4e3bc5e",
   "metadata": {},
   "outputs": [
    {
     "data": {
      "text/plain": [
       "Text(0, 0.5, 'Vote Count')"
      ]
     },
     "execution_count": 27,
     "metadata": {},
     "output_type": "execute_result"
    },
    {
     "data": {
      "image/png": "[encoded data removed]",
      "text/plain": [
       "<Figure size 640x480 with 1 Axes>"
      ]
     },
     "metadata": {},
     "output_type": "display_data"
    }
   ],
   "source": [
    "names = ['Genre_2015','Genre_2014','Genre_2013']\n",
    "height = [count_15,count_14,count_13]\n",
    "plt.plot(names,height)\n",
    "plt.title('Highest Vote Count of Genres')\n",
    "plt.xlabel('Genres')\n",
    "plt.ylabel('Vote Count')"
   ]
  },
  {
   "cell_type": "markdown",
   "id": "689a941a",
   "metadata": {},
   "source": [
    "###  Question 2  Which genre are most popular from 2013 to 2015?  "
   ]
  },
  {
   "cell_type": "markdown",
   "id": "7fe7bb18",
   "metadata": {},
   "source": [
    "Most popular Genre in 2015 and its mean value"
   ]
  },
  {
   "cell_type": "code",
   "execution_count": 28,
   "id": "7895634f",
   "metadata": {},
   "outputs": [
    {
     "name": "stdout",
     "output_type": "stream",
     "text": [
      "Genre: Action|Adventure|Science Fiction|Thriller    Value: 30.7028495\n"
     ]
    }
   ],
   "source": [
    "#finding the most popular genre in 2015\n",
    "genre(mov_2015,'popularity',\"popularity\")"
   ]
  },
  {
   "cell_type": "markdown",
   "id": "44971865",
   "metadata": {},
   "source": [
    "The name of the most popular genre in the year 2014 and its mean"
   ]
  },
  {
   "cell_type": "code",
   "execution_count": 29,
   "id": "3219fd87",
   "metadata": {},
   "outputs": [
    {
     "name": "stdout",
     "output_type": "stream",
     "text": [
      "Genre: Adventure|Drama|Science Fiction    Value: 24.949134\n"
     ]
    }
   ],
   "source": [
    "#finding the most popular genre in 2014\n",
    "genre(mov_2014,'popularity',\"popularity\")"
   ]
  },
  {
   "cell_type": "markdown",
   "id": "8735e624",
   "metadata": {},
   "source": [
    "The mean value of the most popular Genre in the year 2013 and the name of the Genre"
   ]
  },
  {
   "cell_type": "code",
   "execution_count": 30,
   "id": "f08c57ca",
   "metadata": {},
   "outputs": [
    {
     "name": "stdout",
     "output_type": "stream",
     "text": [
      "Genre: Science Fiction|Thriller|Drama    Value: 5.242753\n"
     ]
    }
   ],
   "source": [
    "#finding the most popular genre in 2013\n",
    "genre(mov_2013,'popularity',\"popularity\")"
   ]
  },
  {
   "cell_type": "markdown",
   "id": "b0fba60f",
   "metadata": {},
   "source": [
    "Creating variables for the graph"
   ]
  },
  {
   "cell_type": "code",
   "execution_count": 31,
   "id": "7bf1ec33",
   "metadata": {},
   "outputs": [],
   "source": [
    "mov_2015_gen = mov_2015.groupby('genres').mean()[['popularity']]\n",
    "pop_15 = mov_2015_gen['popularity'].max()\n",
    "\n",
    "mov_2014_gen = mov_2014.groupby('genres').mean()[['popularity']]\n",
    "pop_14 = mov_2014_gen['popularity'].max()\n",
    "\n",
    "mov_2013_gen = mov_2013.groupby('genres').mean()[['popularity']]\n",
    "pop_13 = mov_2013_gen['popularity'].max()"
   ]
  },
  {
   "cell_type": "markdown",
   "id": "6978ca54",
   "metadata": {},
   "source": [
    "A graph showing the most popular Genre from 2013 to 2015"
   ]
  },
  {
   "cell_type": "code",
   "execution_count": 32,
   "id": "6d474c9e",
   "metadata": {},
   "outputs": [
    {
     "data": {
      "text/plain": [
       "Text(0, 0.5, 'Popularity')"
      ]
     },
     "execution_count": 32,
     "metadata": {},
     "output_type": "execute_result"
    },
    {
     "data": {
      "image/png": "[encoded data removed]",
      "text/plain": [
       "<Figure size 640x480 with 1 Axes>"
      ]
     },
     "metadata": {},
     "output_type": "display_data"
    }
   ],
   "source": [
    "#relationship between the genres\n",
    "names = ['Genre_2015','Genre_2014','Genre_2013']\n",
    "height = [pop_15,pop_14,pop_13]\n",
    "plt.bar(names,height )\n",
    "plt.title('Most Popular Genres')\n",
    "plt.xlabel('Genres')\n",
    "plt.ylabel('Popularity')"
   ]
  },
  {
   "cell_type": "markdown",
   "id": "5e24ed77",
   "metadata": {},
   "source": [
    "### Question 3 Which genre had the greatest revenue?  "
   ]
  },
  {
   "cell_type": "markdown",
   "id": "3c13242e",
   "metadata": {},
   "source": [
    "The name of the *Genre* and the amount of revenue generated in the year 2015"
   ]
  },
  {
   "cell_type": "code",
   "execution_count": 33,
   "id": "61d6947e",
   "metadata": {},
   "outputs": [
    {
     "name": "stdout",
     "output_type": "stream",
     "text": [
      "Genre: Action|Adventure|Science Fiction|Fantasy    Value: 2068178225.0\n"
     ]
    }
   ],
   "source": [
    "#finding the genre which had greatest revenue in 2015\n",
    "genre(mov_2015,'revenue',\"revenue\")"
   ]
  },
  {
   "cell_type": "markdown",
   "id": "9052fa64",
   "metadata": {},
   "source": [
    "The name of the *Genre* and the amount of revenue generated in the year 2014"
   ]
  },
  {
   "cell_type": "code",
   "execution_count": 34,
   "id": "7321e29d",
   "metadata": {},
   "outputs": [
    {
     "name": "stdout",
     "output_type": "stream",
     "text": [
      "Genre: Action|Science Fiction|Adventure    Value: 773312399.0\n"
     ]
    }
   ],
   "source": [
    "#finding the genre which had greatest revenue in 2014\n",
    "genre(mov_2014,'revenue',\"revenue\")"
   ]
  },
  {
   "cell_type": "markdown",
   "id": "513c3d79",
   "metadata": {},
   "source": [
    "The name of the *Genre* and the amount of revenue generated in the year 2013"
   ]
  },
  {
   "cell_type": "code",
   "execution_count": 35,
   "id": "b32dfff3",
   "metadata": {},
   "outputs": [
    {
     "name": "stdout",
     "output_type": "stream",
     "text": [
      "Genre: Adventure|Fantasy    Value: 958400000.0\n"
     ]
    }
   ],
   "source": [
    "#finding the genre which had greatest revenue in 2013\n",
    "genre(mov_2013,'revenue',\"revenue\")"
   ]
  },
  {
   "cell_type": "markdown",
   "id": "fa9f3700",
   "metadata": {},
   "source": [
    "Creating variables to be use in the graph"
   ]
  },
  {
   "cell_type": "code",
   "execution_count": 36,
   "id": "8a315d71",
   "metadata": {},
   "outputs": [],
   "source": [
    "mov_2015_gen = mov_2015.groupby('genres').mean()[['revenue']]\n",
    "rev_15 = mov_2015_gen['revenue'].max()\n",
    "\n",
    "mov_2014_gen = mov_2014.groupby('genres').mean()[['revenue']]\n",
    "rev_14 = mov_2014_gen['revenue'].max()\n",
    "\n",
    "mov_2013_gen = mov_2013.groupby('genres').mean()[['revenue']]\n",
    "rev_13 = mov_2013_gen['revenue'].max()"
   ]
  },
  {
   "cell_type": "markdown",
   "id": "f3ce169a",
   "metadata": {},
   "source": [
    "A graph showing the relationship of the revenue of the Genre in their respective years"
   ]
  },
  {
   "cell_type": "code",
   "execution_count": 37,
   "id": "0a1a6785",
   "metadata": {},
   "outputs": [
    {
     "data": {
      "text/plain": [
       "Text(0, 0.5, 'Revenue')"
      ]
     },
     "execution_count": 37,
     "metadata": {},
     "output_type": "execute_result"
    },
    {
     "data": {
      "image/png": "[encoded data removed]",
      "text/plain": [
       "<Figure size 640x480 with 1 Axes>"
      ]
     },
     "metadata": {},
     "output_type": "display_data"
    }
   ],
   "source": [
    "#relationship between the genres\n",
    "names = ['Genre_2015','Genre_2014','Genre_2013']\n",
    "height = [rev_15,rev_14,rev_13]\n",
    "plt.scatter(names,height)\n",
    "plt.title('Greatest Genre Revenue');\n",
    "plt.xlabel('Genres')\n",
    "plt.ylabel('Revenue')"
   ]
  },
  {
   "cell_type": "markdown",
   "id": "c2a2f347",
   "metadata": {},
   "source": [
    "<a id='conclusions'></a>\n",
    "## Conclusions"
   ]
  },
  {
   "cell_type": "markdown",
   "id": "434d0cab",
   "metadata": {},
   "source": [
    "### Base on the analysis done,\n",
    "1. The genre which had the highest vote count from 2013 to 2015 is **Action|Science Fiction| Adventure**, with a vote count of *6498* in the year *2014*  \n",
    "2. The most popular genre from 2013 to 2015 is **Action|Adventure|Science Fiction|Thriller** with a popularity rate of *30.703* in the year *2015*\n",
    "3. In the year *2015*, **Action|Adventure|Science Fiction|Fantasy** had the greatest revenue of a value of *2068178225.0*   \n",
    "   \n",
    "### Limitations\n",
    "1. I had an issuse with filling na that are string data types\n",
    "2. Some of the columns had many NA so i drop them, which could be useful as well."
   ]
  }
 ],
 "metadata": {
  "kernelspec": {
   "display_name": "Python 3 (ipykernel)",
   "language": "python",
   "name": "python3"
  },
  "language_info": {
   "codemirror_mode": {
    "name": "ipython",
    "version": 3
   },
   "file_extension": ".py",
   "mimetype": "text/x-python",
   "name": "python",
   "nbconvert_exporter": "python",
   "pygments_lexer": "ipython3",
   "version": "3.8.10"
  }
 },
 "nbformat": 4,
 "nbformat_minor": 5
}
